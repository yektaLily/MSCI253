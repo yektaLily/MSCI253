{
 "cells": [
  {
   "cell_type": "markdown",
   "id": "further-thought",
   "metadata": {},
   "source": [
    "### Week 8 (Session 7) - June 24th, 2023 \n",
    "\n",
    "#### material to cover: \n",
    "\n",
    "**11.5, 11.6, 11.8, 11.10**\n",
    "- Inferences of Regression Coefficients \n",
    "- Prediction \n",
    "- ANOVA\n",
    "- Data Plots and Transformations\n",
    "\n",
    "**add** \n",
    "- Confidence Intervals for Mean\n",
    "- Confidence Intervals for Prediction \n",
    " \n",
    "***You need to know (Review)***\n",
    "\n",
    "\n",
    "**11.**\n",
    "- Linear Regression\n"
   ]
  },
  {
   "cell_type": "code",
   "execution_count": null,
   "id": "polar-yugoslavia",
   "metadata": {},
   "outputs": [],
   "source": []
  }
 ],
 "metadata": {
  "kernelspec": {
   "display_name": "Python 3",
   "language": "python",
   "name": "python3"
  },
  "language_info": {
   "codemirror_mode": {
    "name": "ipython",
    "version": 3
   },
   "file_extension": ".py",
   "mimetype": "text/x-python",
   "name": "python",
   "nbconvert_exporter": "python",
   "pygments_lexer": "ipython3",
   "version": "3.9.12"
  }
 },
 "nbformat": 4,
 "nbformat_minor": 5
}
