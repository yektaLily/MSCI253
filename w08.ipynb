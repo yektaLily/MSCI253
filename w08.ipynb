{
 "cells": [
  {
   "cell_type": "markdown",
   "id": "coupled-franchise",
   "metadata": {},
   "source": [
    "### Week 8 (Session 7) - June 24th, 2023 \n",
    "\n",
    "#### material to cover: \n",
    "\n",
    "**11.**\n",
    "- Linear Regression\n",
    "- Coefficients \n",
    "- ANOVA\n",
    "- Plots and Transformations \n",
    "\n",
    "**add** \n",
    "- Confidence Intervals for Mean\n",
    "- Confidence Intervals for Prediction \n",
    " \n"
   ]
  },
  {
   "cell_type": "code",
   "execution_count": null,
   "id": "three-command",
   "metadata": {},
   "outputs": [],
   "source": []
  }
 ],
 "metadata": {
  "kernelspec": {
   "display_name": "Python 3",
   "language": "python",
   "name": "python3"
  },
  "language_info": {
   "codemirror_mode": {
    "name": "ipython",
    "version": 3
   },
   "file_extension": ".py",
   "mimetype": "text/x-python",
   "name": "python",
   "nbconvert_exporter": "python",
   "pygments_lexer": "ipython3",
   "version": "3.9.12"
  }
 },
 "nbformat": 4,
 "nbformat_minor": 5
}
