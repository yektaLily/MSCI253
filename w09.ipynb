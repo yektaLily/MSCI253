{
 "cells": [
  {
   "cell_type": "markdown",
   "id": "passing-degree",
   "metadata": {},
   "source": [
    "### Week 9 (Session 8) - July 3rd, 2023 \n",
    "\n",
    "#### material to cover: \n",
    "\n",
    "**12.**\n",
    "- NonLinear Regression \n",
    "- Estimate Coefficients \n",
    "- Matrix\n",
    "- Hypothesis Testing \n",
    "- Categorical/Indicator Variables\n",
    "- Squential Methods for Model Selection\n",
    "\n",
    "**add** \n",
    "- Construct CI Curves\n",
    "- MLR \n",
    "- Calculate Mean\n",
    "- Predictions\n",
    " \n",
    "***You need to know (Review)***\n",
    "\n",
    "N/A"
   ]
  },
  {
   "cell_type": "code",
   "execution_count": null,
   "id": "possible-packing",
   "metadata": {},
   "outputs": [],
   "source": []
  }
 ],
 "metadata": {
  "kernelspec": {
   "display_name": "Python 3",
   "language": "python",
   "name": "python3"
  },
  "language_info": {
   "codemirror_mode": {
    "name": "ipython",
    "version": 3
   },
   "file_extension": ".py",
   "mimetype": "text/x-python",
   "name": "python",
   "nbconvert_exporter": "python",
   "pygments_lexer": "ipython3",
   "version": "3.9.12"
  }
 },
 "nbformat": 4,
 "nbformat_minor": 5
}
