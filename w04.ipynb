{
 "cells": [
  {
   "cell_type": "markdown",
   "id": "funded-delaware",
   "metadata": {},
   "source": [
    "### Week 4 (Session 3) - May 29, 2023\n",
    "\n",
    "#### material to cover: \n",
    "\n",
    "**5.**\n",
    "- Binomial and Multinomial Distro\n",
    "- Hypergeometric Distro\n",
    "- Negative Binomial and Geometric Distro\n",
    "- Poisson Distro and Poisson Process\n",
    "\n",
    "**6.**\n",
    "- Continuous Uniform Distro\n",
    "- Normal Distro\n",
    "- Area under Normal Curve\n",
    "- Normal Approximation to the Binomial\n",
    "- Gamma and Exponential Distro\n",
    "- Chi-sqaured Distro\n",
    "- Beta Distro\n",
    "- LogNormal Distro\n",
    "\n",
    "**add**\n",
    "None"
   ]
  },
  {
   "cell_type": "code",
   "execution_count": null,
   "id": "effective-parade",
   "metadata": {},
   "outputs": [],
   "source": []
  }
 ],
 "metadata": {
  "kernelspec": {
   "display_name": "Python 3",
   "language": "python",
   "name": "python3"
  },
  "language_info": {
   "codemirror_mode": {
    "name": "ipython",
    "version": 3
   },
   "file_extension": ".py",
   "mimetype": "text/x-python",
   "name": "python",
   "nbconvert_exporter": "python",
   "pygments_lexer": "ipython3",
   "version": "3.9.12"
  }
 },
 "nbformat": 4,
 "nbformat_minor": 5
}
