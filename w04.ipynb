{
 "cells": [
  {
   "cell_type": "markdown",
   "id": "polar-renaissance",
   "metadata": {},
   "source": [
    "### Week 4 (Session 3) - May 29, 2023\n",
    "\n",
    "#### material to cover: \n",
    "\n",
    "**5.3, 5.4, 5.5**\n",
    "- Hypergeometric Distro\n",
    "- Negative Binomial and Geometric Distro\n",
    "- Poisson Distro and Poisson Process\n",
    "\n",
    "**6.6, 6.7, 6.8, 6.9**\n",
    "- Gamma and Exponential Distro\n",
    "- Chi-sqaured Distro\n",
    "- Beta Distro\n",
    "- LogNormal Distro\n",
    "\n",
    "\n",
    "**add**\n",
    "None\n",
    "\n",
    "***You need to know (Review)***\n",
    "\n",
    "**5.**\n",
    "- Binomial and Multinomial Distro\n",
    "\n",
    "**6.**\n",
    "- Continuous Uniform Distro\n",
    "- Normal Distro\n",
    "- Area under Normal Curve\n",
    "- Normal Approximation to the Binomial"
   ]
  },
  {
   "cell_type": "code",
   "execution_count": null,
   "id": "considerable-shell",
   "metadata": {},
   "outputs": [],
   "source": []
  }
 ],
 "metadata": {
  "kernelspec": {
   "display_name": "Python 3",
   "language": "python",
   "name": "python3"
  },
  "language_info": {
   "codemirror_mode": {
    "name": "ipython",
    "version": 3
   },
   "file_extension": ".py",
   "mimetype": "text/x-python",
   "name": "python",
   "nbconvert_exporter": "python",
   "pygments_lexer": "ipython3",
   "version": "3.9.12"
  }
 },
 "nbformat": 4,
 "nbformat_minor": 5
}
