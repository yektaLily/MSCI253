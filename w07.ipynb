{
 "cells": [
  {
   "cell_type": "markdown",
   "id": "olympic-attack",
   "metadata": {},
   "source": [
    "### Week 7 (Session 5) - June 19th, 2023 \n",
    "\n",
    "#### material to cover: \n",
    "\n",
    "**9.**\n",
    "- Single Sample: Estimating the Mean\n",
    "- Standard Error of a point Estimate\n",
    "- Two Samples: Estimating difference of 2 means \n",
    "- Paired observations \n",
    "- Single Sample: Estimating a Proportion \n",
    "- Single Sample: Estimating the Variance \n",
    "- Maximum Likelihood Estimation\n",
    "\n",
    "**10.**\n",
    "- Hypothesis Testing \n",
    "- p-value \n",
    "- Single Sample: Test 1 Mean\n",
    "- Two Sample: Test 2 Means \n",
    "- Graphical methods : comparison of means \n",
    "- Single Sample: Single Proportion test \n",
    "- Goodness of Fit \n",
    "- Test of Independence (Categorical Data)\n",
    "\n",
    "**add** \n",
    "- Confidence Intervals\n",
    "- Hypothesis Testing \n"
   ]
  },
  {
   "cell_type": "code",
   "execution_count": null,
   "id": "plastic-blogger",
   "metadata": {},
   "outputs": [],
   "source": []
  }
 ],
 "metadata": {
  "kernelspec": {
   "display_name": "Python 3",
   "language": "python",
   "name": "python3"
  },
  "language_info": {
   "codemirror_mode": {
    "name": "ipython",
    "version": 3
   },
   "file_extension": ".py",
   "mimetype": "text/x-python",
   "name": "python",
   "nbconvert_exporter": "python",
   "pygments_lexer": "ipython3",
   "version": "3.9.12"
  }
 },
 "nbformat": 4,
 "nbformat_minor": 5
}
