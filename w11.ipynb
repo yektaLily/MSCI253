{
 "cells": [
  {
   "cell_type": "markdown",
   "id": "medium-exception",
   "metadata": {},
   "source": [
    "### Week 11 (Session 10) - July 17th, 2023 \n",
    "\n",
    "#### material to cover: \n",
    "\n",
    "**14.**\n",
    "- Interaction Term\n",
    "- Two factor experiment \n",
    "- ANOVA: 2 factor \n",
    "- Three factor experiment \n",
    "\n",
    "**add** \n",
    "- ANOVA for 3 factor \n",
    " \n",
    "***You need to know (Review)***\n",
    "N/A"
   ]
  },
  {
   "cell_type": "code",
   "execution_count": null,
   "id": "spread-economy",
   "metadata": {},
   "outputs": [],
   "source": []
  }
 ],
 "metadata": {
  "kernelspec": {
   "display_name": "Python 3",
   "language": "python",
   "name": "python3"
  },
  "language_info": {
   "codemirror_mode": {
    "name": "ipython",
    "version": 3
   },
   "file_extension": ".py",
   "mimetype": "text/x-python",
   "name": "python",
   "nbconvert_exporter": "python",
   "pygments_lexer": "ipython3",
   "version": "3.9.12"
  }
 },
 "nbformat": 4,
 "nbformat_minor": 5
}
