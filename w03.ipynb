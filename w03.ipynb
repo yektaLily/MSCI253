{
 "cells": [
  {
   "cell_type": "markdown",
   "id": "compatible-annotation",
   "metadata": {},
   "source": [
    "### Week 3 (Session 2) - May 22, 2023 \n",
    "\n",
    "#### material to cover: \n",
    "\n",
    "**3.4**\n",
    "- Joint Probability Distributions \n",
    "\n",
    "\n",
    "**4.3**\n",
    "- Means and Variances of Linear Combinations of RV\n",
    "\n",
    "**add**\n",
    "- LLN\n",
    "- CLT\n",
    "- Simulation\n",
    "\n",
    "***You need to know (Review)***\n",
    "\n",
    "**3.**\n",
    "- Random Variables\n",
    "- Discrete Probability Distro + plots \n",
    "- Continuous Probability Distro + plots \n",
    "\n",
    "**4.**\n",
    "- Mean of RV\n",
    "- Variance, Covariance of RV "
   ]
  },
  {
   "cell_type": "code",
   "execution_count": null,
   "id": "documented-entrepreneur",
   "metadata": {},
   "outputs": [],
   "source": []
  }
 ],
 "metadata": {
  "kernelspec": {
   "display_name": "Python 3",
   "language": "python",
   "name": "python3"
  },
  "language_info": {
   "codemirror_mode": {
    "name": "ipython",
    "version": 3
   },
   "file_extension": ".py",
   "mimetype": "text/x-python",
   "name": "python",
   "nbconvert_exporter": "python",
   "pygments_lexer": "ipython3",
   "version": "3.9.12"
  }
 },
 "nbformat": 4,
 "nbformat_minor": 5
}
