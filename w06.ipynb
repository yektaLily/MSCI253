{
 "cells": [
  {
   "cell_type": "markdown",
   "id": "floating-destruction",
   "metadata": {},
   "source": [
    "### Week 6 (Session 5) - June 12th, 2023 \n",
    "\n",
    "#### material to cover: \n",
    "\n",
    "**8.6, 8.7, 8.8**\n",
    "- t-distro\n",
    "- F-distro\n",
    "- Quantile and probability Plots\n",
    "\n",
    "**add** \n",
    "- Q-Q Plots\n",
    "- Graphics\n",
    "\n",
    "***You need to know (Review)***\n",
    "\n",
    "**8.**\n",
    "- Sampling Distro\n",
    "- Central Limit Theorem\n"
   ]
  },
  {
   "cell_type": "code",
   "execution_count": null,
   "id": "chronic-simpson",
   "metadata": {},
   "outputs": [],
   "source": []
  }
 ],
 "metadata": {
  "kernelspec": {
   "display_name": "Python 3",
   "language": "python",
   "name": "python3"
  },
  "language_info": {
   "codemirror_mode": {
    "name": "ipython",
    "version": 3
   },
   "file_extension": ".py",
   "mimetype": "text/x-python",
   "name": "python",
   "nbconvert_exporter": "python",
   "pygments_lexer": "ipython3",
   "version": "3.9.12"
  }
 },
 "nbformat": 4,
 "nbformat_minor": 5
}
