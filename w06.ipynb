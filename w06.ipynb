{
 "cells": [
  {
   "cell_type": "markdown",
   "id": "appropriate-underwear",
   "metadata": {},
   "source": [
    "### Week 6 (Session 5) - June 12th, 2023 \n",
    "\n",
    "#### material to cover: \n",
    "\n",
    "**8.**\n",
    "- Sampling Distro\n",
    "- Central Limit Theorem\n",
    "- t-distro\n",
    "- F-distro\n",
    "- Quantile Plots\n",
    "- Q-Q Plots\n",
    "- Graphics\n",
    "\n",
    "**add** None\n",
    " \n"
   ]
  },
  {
   "cell_type": "code",
   "execution_count": null,
   "id": "renewable-wells",
   "metadata": {},
   "outputs": [],
   "source": []
  }
 ],
 "metadata": {
  "kernelspec": {
   "display_name": "Python 3",
   "language": "python",
   "name": "python3"
  },
  "language_info": {
   "codemirror_mode": {
    "name": "ipython",
    "version": 3
   },
   "file_extension": ".py",
   "mimetype": "text/x-python",
   "name": "python",
   "nbconvert_exporter": "python",
   "pygments_lexer": "ipython3",
   "version": "3.9.12"
  }
 },
 "nbformat": 4,
 "nbformat_minor": 5
}
