{
 "cells": [
  {
   "cell_type": "markdown",
   "id": "promising-acoustic",
   "metadata": {},
   "source": [
    "### Week 2 (Session 1) - May 15, 2023\n",
    "\n",
    "#### material to cover: \n",
    "\n",
    "**1.**\n",
    "- Measure of location, (mean, median and mode)\n",
    "- Measure of variability, (variance, standard deviation) \n",
    "- Discrete and Continous data \n",
    "\n",
    "**2.**\n",
    "- Sample Space\n",
    "- Events\n",
    "- Counting Sample points\n",
    "- Probability \n",
    "- Conditional Probability\n",
    "- Bayes Rule\n",
    "\n",
    "**add**\n",
    "- Histograms "
   ]
  },
  {
   "cell_type": "code",
   "execution_count": null,
   "id": "global-fisher",
   "metadata": {},
   "outputs": [],
   "source": []
  }
 ],
 "metadata": {
  "kernelspec": {
   "display_name": "Python 3",
   "language": "python",
   "name": "python3"
  },
  "language_info": {
   "codemirror_mode": {
    "name": "ipython",
    "version": 3
   },
   "file_extension": ".py",
   "mimetype": "text/x-python",
   "name": "python",
   "nbconvert_exporter": "python",
   "pygments_lexer": "ipython3",
   "version": "3.9.12"
  }
 },
 "nbformat": 4,
 "nbformat_minor": 5
}
