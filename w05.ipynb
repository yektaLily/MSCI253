{
 "cells": [
  {
   "cell_type": "markdown",
   "id": "talented-litigation",
   "metadata": {},
   "source": [
    "### Week 5 (Session 4) - June 5th, 2023 \n",
    "\n",
    "#### material to cover: \n",
    "\n",
    "**7.2, 7.3**\n",
    "- Transformations \n",
    "- Moments \n",
    "- Moment-Generating Functions \n",
    "\n",
    "**add**\n",
    "- p-value\n",
    "- Normal plot \n",
    "- t-distribution \n",
    "- F-distribution \n",
    "\n",
    "***You need to know (Review)***\n"
   ]
  },
  {
   "cell_type": "code",
   "execution_count": null,
   "id": "written-endorsement",
   "metadata": {},
   "outputs": [],
   "source": []
  }
 ],
 "metadata": {
  "kernelspec": {
   "display_name": "Python 3",
   "language": "python",
   "name": "python3"
  },
  "language_info": {
   "codemirror_mode": {
    "name": "ipython",
    "version": 3
   },
   "file_extension": ".py",
   "mimetype": "text/x-python",
   "name": "python",
   "nbconvert_exporter": "python",
   "pygments_lexer": "ipython3",
   "version": "3.9.12"
  }
 },
 "nbformat": 4,
 "nbformat_minor": 5
}
